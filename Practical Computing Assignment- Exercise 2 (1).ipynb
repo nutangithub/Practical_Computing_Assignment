{
 "cells": [
  {
   "cell_type": "code",
   "execution_count": 1,
   "id": "611179ae",
   "metadata": {},
   "outputs": [],
   "source": [
    "import math\n",
    "import numpy as np"
   ]
  },
  {
   "cell_type": "markdown",
   "id": "877eb8d0",
   "metadata": {},
   "source": [
    "### Write a simple, short program to calculate and print area of one of the biggest faces and volume of a rectangular cuboid with the dimensions given below. Use functions and loops if required(When length=30cm)"
   ]
  },
  {
   "cell_type": "code",
   "execution_count": 2,
   "id": "0fd90c9a",
   "metadata": {},
   "outputs": [
    {
     "name": "stdout",
     "output_type": "stream",
     "text": [
      "Volume of the cuboid is  9000 cm3\n",
      "Area of one of the biggest faces is  600 cm²\n"
     ]
    }
   ],
   "source": [
    "l=30 #lenght\n",
    "b=20 #breadth\n",
    "h=15 #height\n",
    "volume=l*b*h\n",
    "a = l*b\n",
    "b = b*h\n",
    "c = h*l\n",
    "def maximum(a, b, c):\n",
    "    list = [a, b, c]\n",
    "    return max(list)\n",
    "\n",
    "print(\"Volume of the cuboid is \", volume,\"cm3\")\n",
    "print(\"Area of one of the biggest faces is \", maximum(a, b, c),\"cm²\")"
   ]
  },
  {
   "cell_type": "markdown",
   "id": "5cc816d6",
   "metadata": {},
   "source": [
    "### Write a simple, short program to calculate and print area of one of the biggest faces and volume of a rectangular cuboid with the dimensions given below. Use functions and loops if required(When length=40cm)"
   ]
  },
  {
   "cell_type": "code",
   "execution_count": 3,
   "id": "51be8a4a",
   "metadata": {},
   "outputs": [
    {
     "name": "stdout",
     "output_type": "stream",
     "text": [
      "Volume of the cuboid is  12000 cm3\n",
      "Area of one of the biggest faces is  800 cm²\n"
     ]
    }
   ],
   "source": [
    "l=40 #lenght\n",
    "b=20 #breadth\n",
    "h=15 #height\n",
    "volume=l*b*h\n",
    "a = l*b\n",
    "b = b*h\n",
    "c = h*l\n",
    "def maximum(a, b, c):\n",
    "    list = [a, b, c]\n",
    "    return max(list)\n",
    "\n",
    "print(\"Volume of the cuboid is \", volume,\"cm3\")\n",
    "print(\"Area of one of the biggest faces is \", maximum(a, b, c),\"cm²\")"
   ]
  },
  {
   "cell_type": "markdown",
   "id": "8cd1668a",
   "metadata": {},
   "source": [
    "### Write a simple, short program to calculate and print area of one of the biggest faces and volume of a rectangular cuboid with the dimensions given below. Use functions and loops if required(When length=50cm)"
   ]
  },
  {
   "cell_type": "code",
   "execution_count": 4,
   "id": "ac285790",
   "metadata": {},
   "outputs": [
    {
     "name": "stdout",
     "output_type": "stream",
     "text": [
      "Volume of the cuboid is  15000 cm3\n",
      "Area of one of the biggest faces is  1000 cm²\n"
     ]
    }
   ],
   "source": [
    "l=50 #lenght\n",
    "b=20 #breadth\n",
    "h=15 #height\n",
    "volume=l*b*h\n",
    "a = l*b\n",
    "b = b*h\n",
    "c = h*l\n",
    "def maximum(a, b, c):\n",
    "    list = [a, b, c]\n",
    "    return max(list)\n",
    "\n",
    "print(\"Volume of the cuboid is \", volume,\"cm3\")\n",
    "print(\"Area of one of the biggest faces is \", maximum(a, b, c),\"cm²\")"
   ]
  },
  {
   "cell_type": "code",
   "execution_count": null,
   "id": "d0eb106d",
   "metadata": {},
   "outputs": [],
   "source": []
  }
 ],
 "metadata": {
  "kernelspec": {
   "display_name": "Python 3",
   "language": "python",
   "name": "python3"
  },
  "language_info": {
   "codemirror_mode": {
    "name": "ipython",
    "version": 3
   },
   "file_extension": ".py",
   "mimetype": "text/x-python",
   "name": "python",
   "nbconvert_exporter": "python",
   "pygments_lexer": "ipython3",
   "version": "3.8.8"
  }
 },
 "nbformat": 4,
 "nbformat_minor": 5
}
