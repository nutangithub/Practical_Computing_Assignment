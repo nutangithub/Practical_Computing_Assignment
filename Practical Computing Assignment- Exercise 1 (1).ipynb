{
 "cells": [
  {
   "cell_type": "code",
   "execution_count": 1,
   "id": "71f2f921",
   "metadata": {},
   "outputs": [],
   "source": [
    "import math\n",
    "import numpy as np"
   ]
  },
  {
   "cell_type": "markdown",
   "id": "8a3070de",
   "metadata": {},
   "source": [
    "### Exercise 1\n",
    "### Write a simple, short program to calculate and print area of one of the biggest faces and volume of a rectangular cuboid with the dimensions given below: "
   ]
  },
  {
   "cell_type": "code",
   "execution_count": 2,
   "id": "41347c02",
   "metadata": {},
   "outputs": [
    {
     "name": "stdout",
     "output_type": "stream",
     "text": [
      "Volume of the cuboid is  9000\n"
     ]
    }
   ],
   "source": [
    "l=30 #lenght\n",
    "b=20 #breadth\n",
    "h=15 #height\n",
    "volume=l*b*h\n",
    "print(\"Volume of the cuboid is \", volume)"
   ]
  },
  {
   "cell_type": "code",
   "execution_count": 3,
   "id": "c13bb8e3",
   "metadata": {},
   "outputs": [
    {
     "name": "stdout",
     "output_type": "stream",
     "text": [
      "Area of one of the biggest faces is  600\n"
     ]
    }
   ],
   "source": [
    "def maximum(a, b, c):\n",
    "    list = [a, b, c]\n",
    "    return max(list)\n",
    "  \n",
    "# Driven code \n",
    "a = l*b\n",
    "b = b*h\n",
    "c = h*l\n",
    "print(\"Area of one of the biggest faces is \", maximum(a, b, c))"
   ]
  },
  {
   "cell_type": "code",
   "execution_count": null,
   "id": "7f400a61",
   "metadata": {},
   "outputs": [],
   "source": []
  }
 ],
 "metadata": {
  "kernelspec": {
   "display_name": "Python 3",
   "language": "python",
   "name": "python3"
  },
  "language_info": {
   "codemirror_mode": {
    "name": "ipython",
    "version": 3
   },
   "file_extension": ".py",
   "mimetype": "text/x-python",
   "name": "python",
   "nbconvert_exporter": "python",
   "pygments_lexer": "ipython3",
   "version": "3.8.8"
  }
 },
 "nbformat": 4,
 "nbformat_minor": 5
}
